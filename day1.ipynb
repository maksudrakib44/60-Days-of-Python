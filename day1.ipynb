{
 "cells": [
  {
   "cell_type": "code",
   "execution_count": 3,
   "id": "1984bf87-e271-4528-ab24-416b66754194",
   "metadata": {},
   "outputs": [
    {
     "name": "stdout",
     "output_type": "stream",
     "text": [
      "Bismillah, welcome to 60 days python\n"
     ]
    }
   ],
   "source": [
    "print('Bismillah, welcome to 60 days python') #shif+Tab"
   ]
  },
  {
   "cell_type": "code",
   "execution_count": 7,
   "id": "19800dcf-fd30-42da-ba9b-2ffd7124e051",
   "metadata": {},
   "outputs": [
    {
     "name": "stdout",
     "output_type": "stream",
     "text": [
      "Bismillah & welcome to 60 days python."
     ]
    }
   ],
   "source": [
    "print('Bismillah', 'welcome to 60 days python', sep=' & ', end='.') "
   ]
  },
  {
   "cell_type": "code",
   "execution_count": 10,
   "id": "cfd82494-42fc-4df6-8226-7e8afb280890",
   "metadata": {},
   "outputs": [
    {
     "name": "stdout",
     "output_type": "stream",
     "text": [
      "Hello World\n"
     ]
    }
   ],
   "source": [
    "variable='Hello World'\n",
    "print(variable)"
   ]
  },
  {
   "cell_type": "code",
   "execution_count": 11,
   "id": "66a7d193-b1c6-4d86-b520-6fede1747dcd",
   "metadata": {},
   "outputs": [
    {
     "name": "stdout",
     "output_type": "stream",
     "text": [
      "variable\n"
     ]
    }
   ],
   "source": [
    "variable='Hello World'\n",
    "print('variable')"
   ]
  },
  {
   "cell_type": "code",
   "execution_count": 13,
   "id": "b331e768-1a5b-4c62-9a3b-6452d0ae6eeb",
   "metadata": {},
   "outputs": [
    {
     "name": "stdout",
     "output_type": "stream",
     "text": [
      "Hello World\n",
      "My string is Hello World\n"
     ]
    }
   ],
   "source": [
    "variable='Hello World'\n",
    "print(variable)\n",
    "print('My string is ' +var)"
   ]
  },
  {
   "cell_type": "code",
   "execution_count": 15,
   "id": "f8fa3a32-e241-4ecc-992c-8c01871d1465",
   "metadata": {},
   "outputs": [
    {
     "name": "stdout",
     "output_type": "stream",
     "text": [
      "1 2 3\n"
     ]
    }
   ],
   "source": [
    "x=1\n",
    "y=2\n",
    "z=3\n",
    "print(+x , +y , +z)"
   ]
  },
  {
   "cell_type": "code",
   "execution_count": 19,
   "id": "65e391f2-2c21-4f9e-9182-4ee8bb8f8a15",
   "metadata": {},
   "outputs": [
    {
     "name": "stdout",
     "output_type": "stream",
     "text": [
      "1 2 3\n",
      "1 2 3\n",
      "6\n"
     ]
    }
   ],
   "source": [
    "x,y,z = 1,2,3\n",
    "print(x,y,z)\n",
    "print(+x, +y, +z)\n",
    "print(+x +y +z)"
   ]
  },
  {
   "cell_type": "markdown",
   "id": "0c2a9df7-465a-468a-a83f-08ec2229a2ad",
   "metadata": {},
   "source": [
    "Local and Global"
   ]
  },
  {
   "cell_type": "code",
   "execution_count": 37,
   "id": "ba698f84-60c1-4b39-acac-c861cb46b0a5",
   "metadata": {},
   "outputs": [],
   "source": [
    "x = 221002127 \n",
    "def F():\n",
    "    x = 123  #Local\n",
    "    print('Veriable: ',x)\n",
    "    F()\n",
    "   "
   ]
  }
 ],
 "metadata": {
  "kernelspec": {
   "display_name": "Python 3 (ipykernel)",
   "language": "python",
   "name": "python3"
  },
  "language_info": {
   "codemirror_mode": {
    "name": "ipython",
    "version": 3
   },
   "file_extension": ".py",
   "mimetype": "text/x-python",
   "name": "python",
   "nbconvert_exporter": "python",
   "pygments_lexer": "ipython3",
   "version": "3.11.7"
  }
 },
 "nbformat": 4,
 "nbformat_minor": 5
}
