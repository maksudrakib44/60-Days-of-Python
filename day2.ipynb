{
 "cells": [
  {
   "cell_type": "markdown",
   "id": "812ae260-8837-4a86-8e49-5b301f4e6bbc",
   "metadata": {},
   "source": [
    "String"
   ]
  },
  {
   "cell_type": "code",
   "execution_count": 1,
   "id": "b3a81c26-97a4-451b-a3e7-aeec2b2ec82c",
   "metadata": {},
   "outputs": [],
   "source": [
    "data= 'Iam Maksud'"
   ]
  },
  {
   "cell_type": "code",
   "execution_count": 2,
   "id": "2f7099b1-514c-40cd-858b-cb59a25a7b39",
   "metadata": {},
   "outputs": [
    {
     "name": "stdin",
     "output_type": "stream",
     "text": [
      " Iam Maksud\n"
     ]
    }
   ],
   "source": [
    "data = input()"
   ]
  },
  {
   "cell_type": "code",
   "execution_count": 3,
   "id": "5c017bea-d46a-4cd9-9b69-9e1e84312019",
   "metadata": {},
   "outputs": [
    {
     "data": {
      "text/plain": [
       "'Iam Maksud'"
      ]
     },
     "execution_count": 3,
     "metadata": {},
     "output_type": "execute_result"
    }
   ],
   "source": [
    "data"
   ]
  },
  {
   "cell_type": "code",
   "execution_count": 4,
   "id": "715b7cec-bfb5-4ce9-8bd0-00bbf99e829e",
   "metadata": {},
   "outputs": [
    {
     "data": {
      "text/plain": [
       "str"
      ]
     },
     "execution_count": 4,
     "metadata": {},
     "output_type": "execute_result"
    }
   ],
   "source": [
    "type(data)"
   ]
  },
  {
   "cell_type": "code",
   "execution_count": 5,
   "id": "7141dcd9-ad1c-4e35-b35e-9dbbd5e1a785",
   "metadata": {},
   "outputs": [
    {
     "name": "stdin",
     "output_type": "stream",
     "text": [
      " 10\n",
      " 15\n"
     ]
    }
   ],
   "source": [
    "x= input()\n",
    "y= input()"
   ]
  },
  {
   "cell_type": "code",
   "execution_count": 6,
   "id": "0d188f42-0f58-4ba8-aacf-90edd7e14db5",
   "metadata": {},
   "outputs": [
    {
     "data": {
      "text/plain": [
       "'1015'"
      ]
     },
     "execution_count": 6,
     "metadata": {},
     "output_type": "execute_result"
    }
   ],
   "source": [
    "x+y"
   ]
  },
  {
   "cell_type": "code",
   "execution_count": 7,
   "id": "fb29ee84-9ef8-4e30-a71b-eb9c3c9ce895",
   "metadata": {},
   "outputs": [],
   "source": [
    "x= int(x)\n",
    "y= int(y)"
   ]
  },
  {
   "cell_type": "code",
   "execution_count": 8,
   "id": "6f1fe63f-76f3-4576-8a0a-ad6e905bb8ef",
   "metadata": {},
   "outputs": [
    {
     "data": {
      "text/plain": [
       "25"
      ]
     },
     "execution_count": 8,
     "metadata": {},
     "output_type": "execute_result"
    }
   ],
   "source": [
    "x+y"
   ]
  },
  {
   "cell_type": "code",
   "execution_count": 5,
   "id": "32d10164-e359-4b89-8ce5-81e4de9837f2",
   "metadata": {},
   "outputs": [
    {
     "name": "stdin",
     "output_type": "stream",
     "text": [
      "Enter first number: 10\n"
     ]
    }
   ],
   "source": [
    "x= int(input('Enter first number:'))"
   ]
  },
  {
   "cell_type": "code",
   "execution_count": 6,
   "id": "9223f5da-472c-4b77-b65f-8acd8127c34f",
   "metadata": {},
   "outputs": [
    {
     "name": "stdin",
     "output_type": "stream",
     "text": [
      "Enter second number: 15\n"
     ]
    }
   ],
   "source": [
    "y= int(input('Enter second number:'))"
   ]
  },
  {
   "cell_type": "code",
   "execution_count": 7,
   "id": "0ad7ff43-9ffb-40ed-bcc3-28c8594f73b3",
   "metadata": {},
   "outputs": [
    {
     "data": {
      "text/plain": [
       "25"
      ]
     },
     "execution_count": 7,
     "metadata": {},
     "output_type": "execute_result"
    }
   ],
   "source": [
    "x+y"
   ]
  },
  {
   "cell_type": "code",
   "execution_count": 8,
   "id": "43ad8eab-061f-4b26-92fb-1a90a2080ad3",
   "metadata": {},
   "outputs": [
    {
     "name": "stdin",
     "output_type": "stream",
     "text": [
      "Enter float number: 25.00\n"
     ]
    }
   ],
   "source": [
    "x= float(input('Enter float number:'))"
   ]
  },
  {
   "cell_type": "code",
   "execution_count": 9,
   "id": "67a8b39b-49ba-47db-b6ad-4f5891343ef1",
   "metadata": {},
   "outputs": [],
   "source": [
    "data = 'Iam Maksud'"
   ]
  },
  {
   "cell_type": "code",
   "execution_count": 11,
   "id": "6631fb8a-bb76-4560-abb8-dcf473742d3a",
   "metadata": {},
   "outputs": [
    {
     "data": {
      "text/plain": [
       "10"
      ]
     },
     "execution_count": 11,
     "metadata": {},
     "output_type": "execute_result"
    }
   ],
   "source": [
    "len(data)"
   ]
  },
  {
   "cell_type": "code",
   "execution_count": 12,
   "id": "032ed13a-065c-4e86-977e-a39e33d1acc6",
   "metadata": {},
   "outputs": [
    {
     "data": {
      "text/plain": [
       "59"
      ]
     },
     "execution_count": 12,
     "metadata": {},
     "output_type": "execute_result"
    }
   ],
   "source": [
    "import sys\n",
    "sys.getsizeof(data)"
   ]
  },
  {
   "cell_type": "code",
   "execution_count": 17,
   "id": "2b48e3ff-0a20-4ef8-ba2d-567005e42a31",
   "metadata": {},
   "outputs": [
    {
     "data": {
      "text/plain": [
       "1"
      ]
     },
     "execution_count": 17,
     "metadata": {},
     "output_type": "execute_result"
    }
   ],
   "source": [
    "data.count('Maksud')"
   ]
  },
  {
   "cell_type": "code",
   "execution_count": null,
   "id": "3c5e3fa3-8a5a-49b0-9e69-e18b3bc98d6e",
   "metadata": {},
   "outputs": [],
   "source": []
  },
  {
   "cell_type": "markdown",
   "id": "2704b27d-778f-43c0-b103-8651631c0797",
   "metadata": {},
   "source": [
    "Python String method"
   ]
  },
  {
   "cell_type": "code",
   "execution_count": 20,
   "id": "4e0c5632-621f-4fac-a534-fad1e1c11ffd",
   "metadata": {},
   "outputs": [
    {
     "data": {
      "text/plain": [
       "5"
      ]
     },
     "execution_count": 20,
     "metadata": {},
     "output_type": "execute_result"
    }
   ],
   "source": [
    "data = 'Iam learning python'\n",
    "data.find('earning')"
   ]
  },
  {
   "cell_type": "code",
   "execution_count": 2,
   "id": "2aa94528-94ef-4216-af5a-2ef401627ba6",
   "metadata": {},
   "outputs": [
    {
     "data": {
      "text/plain": [
       "4"
      ]
     },
     "execution_count": 2,
     "metadata": {},
     "output_type": "execute_result"
    }
   ],
   "source": [
    "data.find('l')"
   ]
  },
  {
   "cell_type": "code",
   "execution_count": 4,
   "id": "5b9d599a-f6d7-4756-a369-e87cfea29108",
   "metadata": {},
   "outputs": [
    {
     "data": {
      "text/plain": [
       "4"
      ]
     },
     "execution_count": 4,
     "metadata": {},
     "output_type": "execute_result"
    }
   ],
   "source": [
    "data.index('l')"
   ]
  },
  {
   "cell_type": "code",
   "execution_count": 5,
   "id": "996612c9-5c17-4e86-a6b0-72d4d3983e99",
   "metadata": {},
   "outputs": [
    {
     "data": {
      "text/plain": [
       "'iam learning python'"
      ]
     },
     "execution_count": 5,
     "metadata": {},
     "output_type": "execute_result"
    }
   ],
   "source": [
    "data.lower()"
   ]
  },
  {
   "cell_type": "code",
   "execution_count": 6,
   "id": "116f48ff-07d4-468f-9778-daf435e667da",
   "metadata": {},
   "outputs": [
    {
     "data": {
      "text/plain": [
       "'IAM LEARNING PYTHON'"
      ]
     },
     "execution_count": 6,
     "metadata": {},
     "output_type": "execute_result"
    }
   ],
   "source": [
    "data.upper()"
   ]
  },
  {
   "cell_type": "code",
   "execution_count": 7,
   "id": "f81bd150-5fce-4dd6-917c-680234d5112b",
   "metadata": {},
   "outputs": [
    {
     "data": {
      "text/plain": [
       "'iam learning python'"
      ]
     },
     "execution_count": 7,
     "metadata": {},
     "output_type": "execute_result"
    }
   ],
   "source": [
    "data.casefold()"
   ]
  },
  {
   "cell_type": "code",
   "execution_count": 12,
   "id": "a08ac658-ea47-46b1-93af-cf6b41956f52",
   "metadata": {},
   "outputs": [
    {
     "data": {
      "text/plain": [
       "'Iam learning python'"
      ]
     },
     "execution_count": 12,
     "metadata": {},
     "output_type": "execute_result"
    }
   ],
   "source": [
    "data='iam LEARning pyTHOn'\n",
    "\n",
    "data.capitalize()     #Convert only first character in capital"
   ]
  },
  {
   "cell_type": "code",
   "execution_count": 11,
   "id": "2512cdf3-a2d7-4689-a3e2-217af5f904b6",
   "metadata": {},
   "outputs": [
    {
     "data": {
      "text/plain": [
       "'IAM learNING PYthoN'"
      ]
     },
     "execution_count": 11,
     "metadata": {},
     "output_type": "execute_result"
    }
   ],
   "source": [
    "data.swapcase()"
   ]
  },
  {
   "cell_type": "code",
   "execution_count": 14,
   "id": "7ffe29ce-6322-47ae-8bba-1ee32642cb0c",
   "metadata": {},
   "outputs": [
    {
     "data": {
      "text/plain": [
       "'Iam Learning Python'"
      ]
     },
     "execution_count": 14,
     "metadata": {},
     "output_type": "execute_result"
    }
   ],
   "source": [
    "data.title()  #Standard for title"
   ]
  },
  {
   "cell_type": "code",
   "execution_count": 15,
   "id": "7e282bd5-9cb8-4942-96ac-fc69e05b0780",
   "metadata": {},
   "outputs": [
    {
     "data": {
      "text/plain": [
       "False"
      ]
     },
     "execution_count": 15,
     "metadata": {},
     "output_type": "execute_result"
    }
   ],
   "source": [
    "data.isupper()"
   ]
  },
  {
   "cell_type": "code",
   "execution_count": 16,
   "id": "dc6edf43-def3-4693-98cd-438013dc2b6b",
   "metadata": {},
   "outputs": [
    {
     "data": {
      "text/plain": [
       "False"
      ]
     },
     "execution_count": 16,
     "metadata": {},
     "output_type": "execute_result"
    }
   ],
   "source": [
    "data.isdigit()"
   ]
  },
  {
   "cell_type": "code",
   "execution_count": 21,
   "id": "a4e3af7a-b6de-4e01-8c90-a948924caa84",
   "metadata": {},
   "outputs": [
    {
     "data": {
      "text/plain": [
       "['Iam', 'learning', 'python']"
      ]
     },
     "execution_count": 21,
     "metadata": {},
     "output_type": "execute_result"
    }
   ],
   "source": [
    "data.split()"
   ]
  },
  {
   "cell_type": "code",
   "execution_count": 22,
   "id": "bcd57e8f-0e65-4045-ad77-5d0a0df3d1b1",
   "metadata": {},
   "outputs": [
    {
     "data": {
      "text/plain": [
       "'learning'"
      ]
     },
     "execution_count": 22,
     "metadata": {},
     "output_type": "execute_result"
    }
   ],
   "source": [
    "data.split()[1]"
   ]
  },
  {
   "cell_type": "code",
   "execution_count": 23,
   "id": "ae83fee8-5f1a-44b8-9073-56645ec800ec",
   "metadata": {},
   "outputs": [
    {
     "data": {
      "text/plain": [
       "'python'"
      ]
     },
     "execution_count": 23,
     "metadata": {},
     "output_type": "execute_result"
    }
   ],
   "source": [
    "data.split() [2]"
   ]
  },
  {
   "cell_type": "code",
   "execution_count": 24,
   "id": "e4c6256e-ec04-4d6e-958e-d23d5af9d1e4",
   "metadata": {},
   "outputs": [
    {
     "data": {
      "text/plain": [
       "'                                        Iam learning python                                         '"
      ]
     },
     "execution_count": 24,
     "metadata": {},
     "output_type": "execute_result"
    }
   ],
   "source": [
    "data.center(100)"
   ]
  },
  {
   "cell_type": "code",
   "execution_count": 25,
   "id": "daffba89-623b-44a4-8d19-039035b3a6d8",
   "metadata": {},
   "outputs": [
    {
     "data": {
      "text/plain": [
       "'Iam learning coding'"
      ]
     },
     "execution_count": 25,
     "metadata": {},
     "output_type": "execute_result"
    }
   ],
   "source": [
    "data.replace('python','coding')"
   ]
  },
  {
   "cell_type": "code",
   "execution_count": 26,
   "id": "2ab450a1-b084-4c2b-827f-972a8174602f",
   "metadata": {},
   "outputs": [
    {
     "name": "stdout",
     "output_type": "stream",
     "text": [
      "1000\n"
     ]
    }
   ],
   "source": [
    "x= 10\n",
    "y= 100\n",
    "z= x*y\n",
    "\n",
    "print(z)"
   ]
  },
  {
   "cell_type": "code",
   "execution_count": 28,
   "id": "a087c5d8-c0ba-498a-931c-2411a9963e8d",
   "metadata": {},
   "outputs": [
    {
     "name": "stdout",
     "output_type": "stream",
     "text": [
      "I have  1000 taka\n"
     ]
    }
   ],
   "source": [
    "print('I have ',z ,'taka')"
   ]
  },
  {
   "cell_type": "code",
   "execution_count": 33,
   "id": "6e4d54f0-c5e5-4fb1-9a2b-0b4cc97ee1ed",
   "metadata": {},
   "outputs": [
    {
     "name": "stdout",
     "output_type": "stream",
     "text": [
      "I have 1000 taka\n"
     ]
    }
   ],
   "source": [
    "print('I have {} taka'.format(z))"
   ]
  },
  {
   "cell_type": "code",
   "execution_count": null,
   "id": "01cf4b90-4e8b-4b30-a85e-1704a5f1e1b7",
   "metadata": {},
   "outputs": [],
   "source": []
  }
 ],
 "metadata": {
  "kernelspec": {
   "display_name": "Python 3 (ipykernel)",
   "language": "python",
   "name": "python3"
  },
  "language_info": {
   "codemirror_mode": {
    "name": "ipython",
    "version": 3
   },
   "file_extension": ".py",
   "mimetype": "text/x-python",
   "name": "python",
   "nbconvert_exporter": "python",
   "pygments_lexer": "ipython3",
   "version": "3.11.7"
  }
 },
 "nbformat": 4,
 "nbformat_minor": 5
}
