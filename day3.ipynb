{
 "cells": [
  {
   "cell_type": "markdown",
   "id": "91202e23-bb2e-4075-89c7-e97a03a8886c",
   "metadata": {},
   "source": [
    "Data types"
   ]
  },
  {
   "cell_type": "code",
   "execution_count": 1,
   "id": "de2227a6-6183-41b1-81ca-a4a9e84a6245",
   "metadata": {},
   "outputs": [],
   "source": [
    "x= 10\n",
    "y= 10.5\n",
    "z= 10+5j"
   ]
  },
  {
   "cell_type": "code",
   "execution_count": 2,
   "id": "e899b079-ab24-43cc-9325-c4943de51ef1",
   "metadata": {},
   "outputs": [
    {
     "data": {
      "text/plain": [
       "int"
      ]
     },
     "execution_count": 2,
     "metadata": {},
     "output_type": "execute_result"
    }
   ],
   "source": [
    "type(x)"
   ]
  },
  {
   "cell_type": "code",
   "execution_count": 3,
   "id": "ea1564c0-416d-4e42-90b4-8fc6c81a8a78",
   "metadata": {},
   "outputs": [
    {
     "data": {
      "text/plain": [
       "float"
      ]
     },
     "execution_count": 3,
     "metadata": {},
     "output_type": "execute_result"
    }
   ],
   "source": [
    "type(y)"
   ]
  },
  {
   "cell_type": "code",
   "execution_count": 4,
   "id": "d645d3fd-0a64-456a-b01f-1b28a950ea24",
   "metadata": {},
   "outputs": [
    {
     "data": {
      "text/plain": [
       "complex"
      ]
     },
     "execution_count": 4,
     "metadata": {},
     "output_type": "execute_result"
    }
   ],
   "source": [
    "type(z)"
   ]
  },
  {
   "cell_type": "code",
   "execution_count": 5,
   "id": "90095ba9-30a1-4d37-8772-92c9a89c63c4",
   "metadata": {},
   "outputs": [
    {
     "data": {
      "text/plain": [
       "True"
      ]
     },
     "execution_count": 5,
     "metadata": {},
     "output_type": "execute_result"
    }
   ],
   "source": [
    "isinstance(z,complex)"
   ]
  },
  {
   "cell_type": "code",
   "execution_count": 6,
   "id": "52c5c922-105a-410c-8eda-977f517fb8d1",
   "metadata": {},
   "outputs": [
    {
     "data": {
      "text/plain": [
       "False"
      ]
     },
     "execution_count": 6,
     "metadata": {},
     "output_type": "execute_result"
    }
   ],
   "source": [
    "isinstance(10, float)"
   ]
  },
  {
   "cell_type": "code",
   "execution_count": 7,
   "id": "44e2462d-c906-4c65-8fc7-13876f4c339f",
   "metadata": {},
   "outputs": [
    {
     "data": {
      "text/plain": [
       "True"
      ]
     },
     "execution_count": 7,
     "metadata": {},
     "output_type": "execute_result"
    }
   ],
   "source": [
    "isinstance(10,int)"
   ]
  },
  {
   "cell_type": "code",
   "execution_count": 8,
   "id": "9b8656d3-d909-4a34-a245-4d4ce2a96ed4",
   "metadata": {},
   "outputs": [],
   "source": [
    "n= float(x)"
   ]
  },
  {
   "cell_type": "code",
   "execution_count": 9,
   "id": "8ccfe40d-e064-4b2c-84c9-a9207a18a677",
   "metadata": {},
   "outputs": [
    {
     "data": {
      "text/plain": [
       "10.0"
      ]
     },
     "execution_count": 9,
     "metadata": {},
     "output_type": "execute_result"
    }
   ],
   "source": [
    "n"
   ]
  },
  {
   "cell_type": "code",
   "execution_count": 10,
   "id": "736066a8-2b31-4c8f-a1f3-ddf78c4e18db",
   "metadata": {},
   "outputs": [
    {
     "data": {
      "text/plain": [
       "int"
      ]
     },
     "execution_count": 10,
     "metadata": {},
     "output_type": "execute_result"
    }
   ],
   "source": [
    "n=int(n)\n",
    "type (n)"
   ]
  },
  {
   "cell_type": "code",
   "execution_count": 11,
   "id": "c9631313-6190-4091-a448-76483e156acc",
   "metadata": {},
   "outputs": [],
   "source": [
    "n= complex(n)"
   ]
  },
  {
   "cell_type": "code",
   "execution_count": 12,
   "id": "0e832913-45fa-47a3-ba01-577ce1957fbd",
   "metadata": {},
   "outputs": [
    {
     "data": {
      "text/plain": [
       "(10+0j)"
      ]
     },
     "execution_count": 12,
     "metadata": {},
     "output_type": "execute_result"
    }
   ],
   "source": [
    "n"
   ]
  },
  {
   "cell_type": "code",
   "execution_count": 13,
   "id": "ee97ed40-1da7-49bc-93fe-22e707683732",
   "metadata": {},
   "outputs": [
    {
     "name": "stdin",
     "output_type": "stream",
     "text": [
      "Enter complex number: 1+5j\n"
     ]
    }
   ],
   "source": [
    "n= complex(input('Enter complex number:'))"
   ]
  },
  {
   "cell_type": "code",
   "execution_count": 14,
   "id": "d090c744-9fe6-4efa-81aa-f2a7d4463685",
   "metadata": {},
   "outputs": [
    {
     "data": {
      "text/plain": [
       "(1+5j)"
      ]
     },
     "execution_count": 14,
     "metadata": {},
     "output_type": "execute_result"
    }
   ],
   "source": [
    "n"
   ]
  },
  {
   "cell_type": "code",
   "execution_count": 15,
   "id": "042f850d-abd7-4247-a924-f69c71d3171d",
   "metadata": {},
   "outputs": [
    {
     "data": {
      "text/plain": [
       "complex"
      ]
     },
     "execution_count": 15,
     "metadata": {},
     "output_type": "execute_result"
    }
   ],
   "source": [
    "type(n)"
   ]
  },
  {
   "cell_type": "code",
   "execution_count": 16,
   "id": "8d455e89-432a-4aae-a03c-6b2099de2d04",
   "metadata": {},
   "outputs": [],
   "source": [
    "x= True\n",
    "y= False"
   ]
  },
  {
   "cell_type": "code",
   "execution_count": 17,
   "id": "26cafac0-f246-4bf7-8071-1e0f120ccade",
   "metadata": {},
   "outputs": [
    {
     "data": {
      "text/plain": [
       "True"
      ]
     },
     "execution_count": 17,
     "metadata": {},
     "output_type": "execute_result"
    }
   ],
   "source": [
    "x"
   ]
  },
  {
   "cell_type": "code",
   "execution_count": 18,
   "id": "64c7821b-bc7c-40c6-b72d-6a9c23010c05",
   "metadata": {},
   "outputs": [
    {
     "data": {
      "text/plain": [
       "False"
      ]
     },
     "execution_count": 18,
     "metadata": {},
     "output_type": "execute_result"
    }
   ],
   "source": [
    "y"
   ]
  },
  {
   "cell_type": "code",
   "execution_count": null,
   "id": "85a24359-07db-4d36-8c53-14e0b078915c",
   "metadata": {},
   "outputs": [],
   "source": []
  }
 ],
 "metadata": {
  "kernelspec": {
   "display_name": "Python 3 (ipykernel)",
   "language": "python",
   "name": "python3"
  },
  "language_info": {
   "codemirror_mode": {
    "name": "ipython",
    "version": 3
   },
   "file_extension": ".py",
   "mimetype": "text/x-python",
   "name": "python",
   "nbconvert_exporter": "python",
   "pygments_lexer": "ipython3",
   "version": "3.11.7"
  }
 },
 "nbformat": 4,
 "nbformat_minor": 5
}
