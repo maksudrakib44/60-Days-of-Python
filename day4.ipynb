{
 "cells": [
  {
   "cell_type": "markdown",
   "id": "6a40dcc3-9db5-4d6c-9496-3185d53ac21b",
   "metadata": {},
   "source": [
    "Sequence Data"
   ]
  },
  {
   "cell_type": "code",
   "execution_count": 1,
   "id": "b11f06f0-fdcd-4dab-a902-d3107f56bc50",
   "metadata": {},
   "outputs": [],
   "source": [
    "#List[]\n",
    "l=[1,2,3,4,5,True,'data',(1,2,3,4)]"
   ]
  },
  {
   "cell_type": "code",
   "execution_count": 2,
   "id": "4c5de2b2-3ca8-4935-8199-4b31464c0750",
   "metadata": {},
   "outputs": [
    {
     "data": {
      "text/plain": [
       "[1, 2, 3, 4, 5, True, 'data', (1, 2, 3, 4)]"
      ]
     },
     "execution_count": 2,
     "metadata": {},
     "output_type": "execute_result"
    }
   ],
   "source": [
    "l"
   ]
  },
  {
   "cell_type": "code",
   "execution_count": 7,
   "id": "804d56ac-7496-40e2-8a39-da73a031978c",
   "metadata": {},
   "outputs": [
    {
     "data": {
      "text/plain": [
       "1"
      ]
     },
     "execution_count": 7,
     "metadata": {},
     "output_type": "execute_result"
    }
   ],
   "source": [
    "l[0]"
   ]
  },
  {
   "cell_type": "code",
   "execution_count": 8,
   "id": "ac2b7b32-e476-48ef-8df7-8993550f3ea3",
   "metadata": {},
   "outputs": [
    {
     "data": {
      "text/plain": [
       "(1, 2, 3, 4)"
      ]
     },
     "execution_count": 8,
     "metadata": {},
     "output_type": "execute_result"
    }
   ],
   "source": [
    "l[-1]"
   ]
  },
  {
   "cell_type": "code",
   "execution_count": 9,
   "id": "a4336d22-e0e2-4bc6-8e19-81fdbb54bfdf",
   "metadata": {},
   "outputs": [
    {
     "data": {
      "text/plain": [
       "4"
      ]
     },
     "execution_count": 9,
     "metadata": {},
     "output_type": "execute_result"
    }
   ],
   "source": [
    "l[-1][-1]"
   ]
  },
  {
   "cell_type": "code",
   "execution_count": 10,
   "id": "5e94b188-1d35-4d1a-85ac-0f6fecdb57b5",
   "metadata": {},
   "outputs": [
    {
     "data": {
      "text/plain": [
       "list"
      ]
     },
     "execution_count": 10,
     "metadata": {},
     "output_type": "execute_result"
    }
   ],
   "source": [
    "type(l)"
   ]
  },
  {
   "cell_type": "code",
   "execution_count": 11,
   "id": "bca60a0a-6457-4ce1-af5b-bbf37999f65e",
   "metadata": {},
   "outputs": [
    {
     "data": {
      "text/plain": [
       "True"
      ]
     },
     "execution_count": 11,
     "metadata": {},
     "output_type": "execute_result"
    }
   ],
   "source": [
    "isinstance(l,list)"
   ]
  },
  {
   "cell_type": "code",
   "execution_count": 12,
   "id": "7950bc6a-c117-4ceb-ad48-0fbc6547b483",
   "metadata": {},
   "outputs": [],
   "source": [
    "# Tuple()\n",
    "t=(1,2,3,4,5,'Tuple')"
   ]
  },
  {
   "cell_type": "code",
   "execution_count": 13,
   "id": "e62c0bb2-0d30-4fe2-ab53-23c0ec98ffb1",
   "metadata": {},
   "outputs": [
    {
     "data": {
      "text/plain": [
       "(1, 2, 3, 4, 5, 'Tuple')"
      ]
     },
     "execution_count": 13,
     "metadata": {},
     "output_type": "execute_result"
    }
   ],
   "source": [
    "t"
   ]
  },
  {
   "cell_type": "code",
   "execution_count": 15,
   "id": "7fec0cf2-4e0b-4fb4-abcb-e6d66c58727c",
   "metadata": {},
   "outputs": [
    {
     "data": {
      "text/plain": [
       "1"
      ]
     },
     "execution_count": 15,
     "metadata": {},
     "output_type": "execute_result"
    }
   ],
   "source": [
    "t[0]"
   ]
  },
  {
   "cell_type": "code",
   "execution_count": 16,
   "id": "50d2b1c3-efcb-4ce2-85b2-9e5d827a4949",
   "metadata": {},
   "outputs": [
    {
     "data": {
      "text/plain": [
       "'Tuple'"
      ]
     },
     "execution_count": 16,
     "metadata": {},
     "output_type": "execute_result"
    }
   ],
   "source": [
    "t[-1]"
   ]
  },
  {
   "cell_type": "code",
   "execution_count": 17,
   "id": "81d73b90-8172-47c4-b4d6-bf204361eaa0",
   "metadata": {},
   "outputs": [
    {
     "data": {
      "text/plain": [
       "'e'"
      ]
     },
     "execution_count": 17,
     "metadata": {},
     "output_type": "execute_result"
    }
   ],
   "source": [
    "t[-1][-1]"
   ]
  },
  {
   "cell_type": "code",
   "execution_count": 18,
   "id": "d03c639f-e528-4ebe-8d4c-339c97a57f9a",
   "metadata": {},
   "outputs": [
    {
     "data": {
      "text/plain": [
       "(1, 2, 3, 4)"
      ]
     },
     "execution_count": 18,
     "metadata": {},
     "output_type": "execute_result"
    }
   ],
   "source": [
    "t[0:4]"
   ]
  },
  {
   "cell_type": "code",
   "execution_count": 23,
   "id": "2c6e6242-bf9b-460a-aae3-b5d08762f8b5",
   "metadata": {},
   "outputs": [],
   "source": [
    "#Range()\n",
    "\n",
    "x =  range(10)"
   ]
  },
  {
   "cell_type": "code",
   "execution_count": 24,
   "id": "d5f42949-be5f-437f-bb7a-3d052d015da9",
   "metadata": {},
   "outputs": [
    {
     "data": {
      "text/plain": [
       "range(0, 10)"
      ]
     },
     "execution_count": 24,
     "metadata": {},
     "output_type": "execute_result"
    }
   ],
   "source": [
    "x"
   ]
  },
  {
   "cell_type": "code",
   "execution_count": 25,
   "id": "dcfe65b9-3fcb-4141-b26c-c62268a648ac",
   "metadata": {},
   "outputs": [
    {
     "name": "stdout",
     "output_type": "stream",
     "text": [
      "0\n",
      "1\n",
      "2\n",
      "3\n",
      "4\n",
      "5\n",
      "6\n",
      "7\n",
      "8\n",
      "9\n"
     ]
    }
   ],
   "source": [
    "for i in x:\n",
    "    print(i)"
   ]
  },
  {
   "cell_type": "code",
   "execution_count": 32,
   "id": "b7e33104-a83b-47df-be7e-c0fc563c5cab",
   "metadata": {},
   "outputs": [],
   "source": [
    "x = range(5,20)"
   ]
  },
  {
   "cell_type": "code",
   "execution_count": 33,
   "id": "f735014b-6827-4120-b55f-c79e9be2a87e",
   "metadata": {},
   "outputs": [
    {
     "name": "stdout",
     "output_type": "stream",
     "text": [
      "5\n",
      "6\n",
      "7\n",
      "8\n",
      "9\n",
      "10\n",
      "11\n",
      "12\n",
      "13\n",
      "14\n",
      "15\n",
      "16\n",
      "17\n",
      "18\n",
      "19\n"
     ]
    }
   ],
   "source": [
    "for i in x:\n",
    "    print(i)"
   ]
  },
  {
   "cell_type": "code",
   "execution_count": 57,
   "id": "e81afef6-1499-4263-88eb-b5da45b9bda8",
   "metadata": {},
   "outputs": [
    {
     "name": "stdout",
     "output_type": "stream",
     "text": [
      "5\n",
      "8\n",
      "11\n",
      "14\n",
      "17\n"
     ]
    }
   ],
   "source": [
    "x= range(5,20,3)\n",
    "for i in x:\n",
    "    print(i)"
   ]
  },
  {
   "cell_type": "code",
   "execution_count": 66,
   "id": "e03b329e-2404-4bfb-b751-058b85ceeb55",
   "metadata": {},
   "outputs": [
    {
     "name": "stdout",
     "output_type": "stream",
     "text": [
      "5\n",
      "7\n",
      "9\n",
      "11\n",
      "13\n",
      "15\n",
      "17\n",
      "19\n"
     ]
    }
   ],
   "source": [
    "x= range(5,20,2)\n",
    "\n",
    "for i in x:\n",
    "    print(i)"
   ]
  },
  {
   "cell_type": "code",
   "execution_count": 69,
   "id": "afdfb441-2d2f-4796-8882-24535b7af47d",
   "metadata": {},
   "outputs": [
    {
     "name": "stdout",
     "output_type": "stream",
     "text": [
      "20\n",
      "17\n",
      "14\n",
      "11\n",
      "8\n"
     ]
    }
   ],
   "source": [
    "y = range(20,5,-3)\n",
    "for i in y:\n",
    "    print(i)"
   ]
  },
  {
   "cell_type": "code",
   "execution_count": 77,
   "id": "34cafe89-ef27-452b-aa0f-db233e6c2ffe",
   "metadata": {},
   "outputs": [],
   "source": [
    "#array\n",
    "\n",
    "import array as ar"
   ]
  },
  {
   "cell_type": "code",
   "execution_count": 79,
   "id": "dcf83a80-ca87-4d21-be4a-3d2076b0a71a",
   "metadata": {},
   "outputs": [
    {
     "data": {
      "text/plain": [
       "array('i', [1, 2, 3])"
      ]
     },
     "execution_count": 79,
     "metadata": {},
     "output_type": "execute_result"
    }
   ],
   "source": [
    "a = ar.array('i',[1,2,3])\n",
    "a"
   ]
  },
  {
   "cell_type": "code",
   "execution_count": 80,
   "id": "3a70b100-d728-4784-af57-8edb3af7b18c",
   "metadata": {},
   "outputs": [
    {
     "data": {
      "text/plain": [
       "array.array"
      ]
     },
     "execution_count": 80,
     "metadata": {},
     "output_type": "execute_result"
    }
   ],
   "source": [
    "type (a)"
   ]
  },
  {
   "cell_type": "code",
   "execution_count": 84,
   "id": "c64703ad-3e63-43d3-b6d5-94aff860e2e3",
   "metadata": {},
   "outputs": [
    {
     "data": {
      "text/plain": [
       "array('f', [1.5, 2.0, 3.0])"
      ]
     },
     "execution_count": 84,
     "metadata": {},
     "output_type": "execute_result"
    }
   ],
   "source": [
    "a = ar.array('f',[1.5,2,3])\n",
    "a"
   ]
  },
  {
   "cell_type": "code",
   "execution_count": 85,
   "id": "21bf36cb-a735-4a14-b4fb-b44439d0c87a",
   "metadata": {},
   "outputs": [
    {
     "data": {
      "text/plain": [
       "str"
      ]
     },
     "execution_count": 85,
     "metadata": {},
     "output_type": "execute_result"
    }
   ],
   "source": [
    "#string\n",
    "\n",
    "x= 'data'\n",
    "type(x)"
   ]
  },
  {
   "cell_type": "code",
   "execution_count": 88,
   "id": "58e984ec-8384-4d26-acb9-98c6f8d99f60",
   "metadata": {},
   "outputs": [],
   "source": [
    "x= '''\n",
    "I love \n",
    " python\n",
    "'''"
   ]
  },
  {
   "cell_type": "code",
   "execution_count": 87,
   "id": "3703f2a9-831f-43e7-85bf-0bb783234e24",
   "metadata": {},
   "outputs": [
    {
     "data": {
      "text/plain": [
       "'\\nI love \\npython\\n'"
      ]
     },
     "execution_count": 87,
     "metadata": {},
     "output_type": "execute_result"
    }
   ],
   "source": [
    "x"
   ]
  },
  {
   "cell_type": "code",
   "execution_count": 89,
   "id": "18d190f1-e6c2-4455-a997-0b63f6343533",
   "metadata": {},
   "outputs": [],
   "source": [
    "#set\n",
    "\n",
    "s={1,2,3,4}"
   ]
  },
  {
   "cell_type": "code",
   "execution_count": 90,
   "id": "b1051c47-0c72-47a5-ae1c-07cd6fa2b8c5",
   "metadata": {},
   "outputs": [
    {
     "data": {
      "text/plain": [
       "set"
      ]
     },
     "execution_count": 90,
     "metadata": {},
     "output_type": "execute_result"
    }
   ],
   "source": [
    "type(s)"
   ]
  },
  {
   "cell_type": "code",
   "execution_count": 96,
   "id": "af73ca96-d630-40e9-8d7e-e80ad4cb7d96",
   "metadata": {},
   "outputs": [],
   "source": [
    "#dictionary\n",
    "\n",
    "dic={\n",
    "    'Varsity' : 'GUB', 'Dept' : 'CSE'\n",
    "    }"
   ]
  },
  {
   "cell_type": "code",
   "execution_count": 97,
   "id": "3be8ae95-20f6-4c91-9905-08df9a0816cf",
   "metadata": {},
   "outputs": [
    {
     "data": {
      "text/plain": [
       "dict"
      ]
     },
     "execution_count": 97,
     "metadata": {},
     "output_type": "execute_result"
    }
   ],
   "source": [
    "type(dic)"
   ]
  },
  {
   "cell_type": "code",
   "execution_count": 98,
   "id": "1da0adb7-4f87-49ab-94c0-61b29a1b6b0c",
   "metadata": {},
   "outputs": [
    {
     "data": {
      "text/plain": [
       "dict_keys(['Varsity', 'Dept'])"
      ]
     },
     "execution_count": 98,
     "metadata": {},
     "output_type": "execute_result"
    }
   ],
   "source": [
    "dic.keys()"
   ]
  },
  {
   "cell_type": "code",
   "execution_count": 99,
   "id": "a0d24115-c742-4423-a8c1-6ef5cc54db96",
   "metadata": {},
   "outputs": [
    {
     "data": {
      "text/plain": [
       "dict_values(['GUB', 'CSE'])"
      ]
     },
     "execution_count": 99,
     "metadata": {},
     "output_type": "execute_result"
    }
   ],
   "source": [
    "dic.values()"
   ]
  },
  {
   "cell_type": "markdown",
   "id": "aa2c8c33-e7f3-4ab2-b544-48cd7dedbf43",
   "metadata": {},
   "source": [
    "Data frame"
   ]
  },
  {
   "cell_type": "code",
   "execution_count": 133,
   "id": "b654c3c9-4709-4f51-8da6-f932ce763603",
   "metadata": {},
   "outputs": [],
   "source": [
    "#pandas\n",
    "\n",
    "import pandas as pd\n",
    "\n",
    "df = pd.read_csv('Demopython.csv')"
   ]
  },
  {
   "cell_type": "code",
   "execution_count": 136,
   "id": "4b821e19-5ca8-48be-b085-79454ef32607",
   "metadata": {},
   "outputs": [
    {
     "data": {
      "text/html": [
       "<div>\n",
       "<style scoped>\n",
       "    .dataframe tbody tr th:only-of-type {\n",
       "        vertical-align: middle;\n",
       "    }\n",
       "\n",
       "    .dataframe tbody tr th {\n",
       "        vertical-align: top;\n",
       "    }\n",
       "\n",
       "    .dataframe thead th {\n",
       "        text-align: right;\n",
       "    }\n",
       "</style>\n",
       "<table border=\"1\" class=\"dataframe\">\n",
       "  <thead>\n",
       "    <tr style=\"text-align: right;\">\n",
       "      <th></th>\n",
       "      <th>Day</th>\n",
       "      <th>Time</th>\n",
       "      <th>Course</th>\n",
       "      <th>Section</th>\n",
       "      <th>Capacity</th>\n",
       "      <th>Faculty</th>\n",
       "      <th>Dept</th>\n",
       "      <th>Room no</th>\n",
       "    </tr>\n",
       "  </thead>\n",
       "  <tbody>\n",
       "    <tr>\n",
       "      <th>0</th>\n",
       "      <td>Saturday</td>\n",
       "      <td>12:15</td>\n",
       "      <td>CSE101</td>\n",
       "      <td>D1</td>\n",
       "      <td>45</td>\n",
       "      <td>MR. X</td>\n",
       "      <td>CSE</td>\n",
       "      <td>A-502</td>\n",
       "    </tr>\n",
       "  </tbody>\n",
       "</table>\n",
       "</div>"
      ],
      "text/plain": [
       "        Day   Time  Course Section  Capacity Faculty Dept Room no\n",
       "0  Saturday  12:15  CSE101      D1        45   MR. X  CSE   A-502"
      ]
     },
     "execution_count": 136,
     "metadata": {},
     "output_type": "execute_result"
    }
   ],
   "source": [
    "df.head(10)"
   ]
  },
  {
   "cell_type": "code",
   "execution_count": 138,
   "id": "e9825a64-3422-4924-95a3-5242ea128404",
   "metadata": {},
   "outputs": [
    {
     "data": {
      "text/plain": [
       "(1, 8)"
      ]
     },
     "execution_count": 138,
     "metadata": {},
     "output_type": "execute_result"
    }
   ],
   "source": [
    "df.shape"
   ]
  },
  {
   "cell_type": "code",
   "execution_count": 135,
   "id": "31421bc2-13e2-49c7-842a-3518ace5c9ad",
   "metadata": {},
   "outputs": [
    {
     "name": "stdout",
     "output_type": "stream",
     "text": [
      "<class 'pandas.core.frame.DataFrame'>\n",
      "RangeIndex: 1 entries, 0 to 0\n",
      "Data columns (total 8 columns):\n",
      " #   Column    Non-Null Count  Dtype \n",
      "---  ------    --------------  ----- \n",
      " 0   Day       1 non-null      object\n",
      " 1   Time      1 non-null      object\n",
      " 2   Course    1 non-null      object\n",
      " 3   Section   1 non-null      object\n",
      " 4   Capacity  1 non-null      int64 \n",
      " 5   Faculty   1 non-null      object\n",
      " 6   Dept      1 non-null      object\n",
      " 7   Room no   1 non-null      object\n",
      "dtypes: int64(1), object(7)\n",
      "memory usage: 196.0+ bytes\n"
     ]
    }
   ],
   "source": [
    "df.info()"
   ]
  },
  {
   "cell_type": "code",
   "execution_count": 139,
   "id": "32ecf259-1a4c-46d2-a76f-d562b90695bb",
   "metadata": {},
   "outputs": [],
   "source": [
    "#Binary types\n",
    "\n",
    "byte_arr = bytearray('MAKSUD','utf-8')"
   ]
  },
  {
   "cell_type": "code",
   "execution_count": 140,
   "id": "95107470-5648-4f46-8c6a-d453829b0ab0",
   "metadata": {},
   "outputs": [
    {
     "data": {
      "text/plain": [
       "bytearray"
      ]
     },
     "execution_count": 140,
     "metadata": {},
     "output_type": "execute_result"
    }
   ],
   "source": [
    "type(byte_arr)"
   ]
  },
  {
   "cell_type": "code",
   "execution_count": 141,
   "id": "0ea8fe39-8aeb-47c2-9f3d-67afc019342a",
   "metadata": {},
   "outputs": [
    {
     "data": {
      "text/plain": [
       "bytearray(b'MAKSUD')"
      ]
     },
     "execution_count": 141,
     "metadata": {},
     "output_type": "execute_result"
    }
   ],
   "source": [
    "byte_arr"
   ]
  },
  {
   "cell_type": "code",
   "execution_count": 142,
   "id": "79b036bd-2d3a-4ceb-97da-328b264efc06",
   "metadata": {},
   "outputs": [
    {
     "data": {
      "text/plain": [
       "<memory at 0x000001FD840F7E80>"
      ]
     },
     "execution_count": 142,
     "metadata": {},
     "output_type": "execute_result"
    }
   ],
   "source": [
    "memoryview(byte_arr)"
   ]
  },
  {
   "cell_type": "code",
   "execution_count": 143,
   "id": "1acd35fb-f7b4-4da0-adb0-8c9f7856b4a2",
   "metadata": {},
   "outputs": [
    {
     "data": {
      "text/plain": [
       "77"
      ]
     },
     "execution_count": 143,
     "metadata": {},
     "output_type": "execute_result"
    }
   ],
   "source": [
    "memoryview(byte_arr)[0]"
   ]
  },
  {
   "cell_type": "code",
   "execution_count": 145,
   "id": "5de5cd16-cd8c-4416-b6cf-8b2e8479c075",
   "metadata": {},
   "outputs": [
    {
     "data": {
      "text/plain": [
       "77"
      ]
     },
     "execution_count": 145,
     "metadata": {},
     "output_type": "execute_result"
    }
   ],
   "source": [
    "mv = memoryview(byte_arr)\n",
    "mv[0]"
   ]
  },
  {
   "cell_type": "code",
   "execution_count": 146,
   "id": "2de6b7b7-ee86-4b70-bc29-2d4214e16809",
   "metadata": {},
   "outputs": [
    {
     "data": {
      "text/plain": [
       "bytearray(b'MAKSUD')"
      ]
     },
     "execution_count": 146,
     "metadata": {},
     "output_type": "execute_result"
    }
   ],
   "source": [
    "byte_arr"
   ]
  },
  {
   "cell_type": "code",
   "execution_count": null,
   "id": "57e2f986-9edc-40ce-8fe3-557db19f67b8",
   "metadata": {},
   "outputs": [],
   "source": []
  }
 ],
 "metadata": {
  "kernelspec": {
   "display_name": "Python 3 (ipykernel)",
   "language": "python",
   "name": "python3"
  },
  "language_info": {
   "codemirror_mode": {
    "name": "ipython",
    "version": 3
   },
   "file_extension": ".py",
   "mimetype": "text/x-python",
   "name": "python",
   "nbconvert_exporter": "python",
   "pygments_lexer": "ipython3",
   "version": "3.11.7"
  }
 },
 "nbformat": 4,
 "nbformat_minor": 5
}
