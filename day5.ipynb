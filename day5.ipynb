{
 "cells": [
  {
   "cell_type": "markdown",
   "id": "e4cb655b-57ba-48f4-98ff-fc574161938b",
   "metadata": {},
   "source": [
    "Operators"
   ]
  },
  {
   "cell_type": "code",
   "execution_count": 1,
   "id": "db9cc09b-5846-4e97-a094-3df5cd74c5ef",
   "metadata": {},
   "outputs": [],
   "source": [
    "#Assinging variables\n",
    "\n",
    "x=10\n",
    "y=5\n",
    "z=3"
   ]
  },
  {
   "cell_type": "code",
   "execution_count": 2,
   "id": "050ead3e-78d9-422f-9adc-1bdacaaf9b65",
   "metadata": {},
   "outputs": [
    {
     "data": {
      "text/plain": [
       "15"
      ]
     },
     "execution_count": 2,
     "metadata": {},
     "output_type": "execute_result"
    }
   ],
   "source": [
    "x+y"
   ]
  },
  {
   "cell_type": "code",
   "execution_count": 3,
   "id": "b1510cf7-eb12-42d8-ad2e-f3b928ea4e3e",
   "metadata": {},
   "outputs": [
    {
     "data": {
      "text/plain": [
       "5"
      ]
     },
     "execution_count": 3,
     "metadata": {},
     "output_type": "execute_result"
    }
   ],
   "source": [
    "x-y"
   ]
  },
  {
   "cell_type": "code",
   "execution_count": 4,
   "id": "92fbc995-2cbd-41e3-b949-e93be4d26124",
   "metadata": {},
   "outputs": [
    {
     "data": {
      "text/plain": [
       "3.3333333333333335"
      ]
     },
     "execution_count": 4,
     "metadata": {},
     "output_type": "execute_result"
    }
   ],
   "source": [
    "x/z"
   ]
  },
  {
   "cell_type": "code",
   "execution_count": 5,
   "id": "15f2759e-293b-4c9b-855d-15e06c3b4637",
   "metadata": {},
   "outputs": [
    {
     "data": {
      "text/plain": [
       "15"
      ]
     },
     "execution_count": 5,
     "metadata": {},
     "output_type": "execute_result"
    }
   ],
   "source": [
    "y*z"
   ]
  },
  {
   "cell_type": "code",
   "execution_count": 7,
   "id": "3f056ea0-8650-42ff-bc85-5c30242dbc12",
   "metadata": {},
   "outputs": [
    {
     "data": {
      "text/plain": [
       "1000"
      ]
     },
     "execution_count": 7,
     "metadata": {},
     "output_type": "execute_result"
    }
   ],
   "source": [
    "x ** z #power exponential"
   ]
  },
  {
   "cell_type": "code",
   "execution_count": 8,
   "id": "46b69f75-61b6-43d3-9b14-a89ae0f8f34c",
   "metadata": {},
   "outputs": [
    {
     "data": {
      "text/plain": [
       "2.0"
      ]
     },
     "execution_count": 8,
     "metadata": {},
     "output_type": "execute_result"
    }
   ],
   "source": [
    "x/y"
   ]
  },
  {
   "cell_type": "code",
   "execution_count": 9,
   "id": "771129f5-e14c-4630-884a-c6f0b49d6379",
   "metadata": {},
   "outputs": [
    {
     "data": {
      "text/plain": [
       "2"
      ]
     },
     "execution_count": 9,
     "metadata": {},
     "output_type": "execute_result"
    }
   ],
   "source": [
    "x // y"
   ]
  },
  {
   "cell_type": "code",
   "execution_count": 10,
   "id": "cf628cc2-7285-49dd-9061-34e8ef0e7374",
   "metadata": {},
   "outputs": [
    {
     "data": {
      "text/plain": [
       "3.3333333333333335"
      ]
     },
     "execution_count": 10,
     "metadata": {},
     "output_type": "execute_result"
    }
   ],
   "source": [
    "x/z"
   ]
  },
  {
   "cell_type": "code",
   "execution_count": 11,
   "id": "fa733592-7513-4933-9ade-7b2c1d632b3b",
   "metadata": {},
   "outputs": [
    {
     "data": {
      "text/plain": [
       "3"
      ]
     },
     "execution_count": 11,
     "metadata": {},
     "output_type": "execute_result"
    }
   ],
   "source": [
    "import math\n",
    "math.floor(x/z)"
   ]
  },
  {
   "cell_type": "code",
   "execution_count": 16,
   "id": "28b9f162-d7bb-405d-9e39-b8e1d6cb828d",
   "metadata": {},
   "outputs": [
    {
     "data": {
      "text/plain": [
       "4"
      ]
     },
     "execution_count": 16,
     "metadata": {},
     "output_type": "execute_result"
    }
   ],
   "source": [
    "import math\n",
    "math.ceil(x/z)"
   ]
  },
  {
   "cell_type": "code",
   "execution_count": 17,
   "id": "9d3969d2-94de-4564-8ab9-8abd685f63a5",
   "metadata": {},
   "outputs": [
    {
     "data": {
      "text/plain": [
       "3"
      ]
     },
     "execution_count": 17,
     "metadata": {},
     "output_type": "execute_result"
    }
   ],
   "source": [
    "x // z"
   ]
  },
  {
   "cell_type": "code",
   "execution_count": 18,
   "id": "9ef34ac4-042c-4d5d-9785-4c8a915d019c",
   "metadata": {},
   "outputs": [
    {
     "data": {
      "text/plain": [
       "1"
      ]
     },
     "execution_count": 18,
     "metadata": {},
     "output_type": "execute_result"
    }
   ],
   "source": [
    "import math\n",
    "math.floor(y/z)"
   ]
  },
  {
   "cell_type": "code",
   "execution_count": 1,
   "id": "400f6b16-dcf6-45ac-9894-5ca2108bca0a",
   "metadata": {},
   "outputs": [
    {
     "data": {
      "text/plain": [
       "True"
      ]
     },
     "execution_count": 1,
     "metadata": {},
     "output_type": "execute_result"
    }
   ],
   "source": [
    "#python identity operators\n",
    "\n",
    "x= 10\n",
    "y= 10\n",
    "x is y"
   ]
  },
  {
   "cell_type": "code",
   "execution_count": 2,
   "id": "b6a7126a-e808-419b-a74a-202569f39246",
   "metadata": {},
   "outputs": [
    {
     "data": {
      "text/plain": [
       "True"
      ]
     },
     "execution_count": 2,
     "metadata": {},
     "output_type": "execute_result"
    }
   ],
   "source": [
    "x == y"
   ]
  },
  {
   "cell_type": "code",
   "execution_count": 3,
   "id": "55844691-4dea-460f-9e1c-34415f2fd8aa",
   "metadata": {},
   "outputs": [],
   "source": [
    "x= 100017\n",
    "y= x\n",
    "z= 100017"
   ]
  },
  {
   "cell_type": "code",
   "execution_count": 4,
   "id": "648069c7-f161-46e9-a457-a7f9a414f347",
   "metadata": {},
   "outputs": [
    {
     "data": {
      "text/plain": [
       "True"
      ]
     },
     "execution_count": 4,
     "metadata": {},
     "output_type": "execute_result"
    }
   ],
   "source": [
    "x is y"
   ]
  },
  {
   "cell_type": "code",
   "execution_count": 5,
   "id": "47c7f217-ca3e-4f39-aeee-7d3c2dd9aeb1",
   "metadata": {},
   "outputs": [
    {
     "data": {
      "text/plain": [
       "False"
      ]
     },
     "execution_count": 5,
     "metadata": {},
     "output_type": "execute_result"
    }
   ],
   "source": [
    "x is z"
   ]
  },
  {
   "cell_type": "code",
   "execution_count": 6,
   "id": "16ec52df-51db-49c3-a089-1faa025b46cd",
   "metadata": {},
   "outputs": [
    {
     "data": {
      "text/plain": [
       "2916008047344"
      ]
     },
     "execution_count": 6,
     "metadata": {},
     "output_type": "execute_result"
    }
   ],
   "source": [
    "id(x)"
   ]
  },
  {
   "cell_type": "code",
   "execution_count": 7,
   "id": "cf0c1881-f8e7-49ce-b6c5-f7ec2529ccf9",
   "metadata": {},
   "outputs": [
    {
     "data": {
      "text/plain": [
       "2916008047344"
      ]
     },
     "execution_count": 7,
     "metadata": {},
     "output_type": "execute_result"
    }
   ],
   "source": [
    "id(y)"
   ]
  },
  {
   "cell_type": "code",
   "execution_count": 8,
   "id": "8b1ede19-ecdd-474f-9cc5-f7f893a99a91",
   "metadata": {},
   "outputs": [
    {
     "data": {
      "text/plain": [
       "2916008048016"
      ]
     },
     "execution_count": 8,
     "metadata": {},
     "output_type": "execute_result"
    }
   ],
   "source": [
    "id(z)"
   ]
  },
  {
   "cell_type": "code",
   "execution_count": 9,
   "id": "956e637a-82b8-4b84-9402-5e7163517476",
   "metadata": {},
   "outputs": [
    {
     "data": {
      "text/plain": [
       "True"
      ]
     },
     "execution_count": 9,
     "metadata": {},
     "output_type": "execute_result"
    }
   ],
   "source": [
    "x==z #comperative"
   ]
  },
  {
   "cell_type": "code",
   "execution_count": 10,
   "id": "073c5c93-10c0-404b-b94a-904a7d0de816",
   "metadata": {},
   "outputs": [
    {
     "data": {
      "text/plain": [
       "False"
      ]
     },
     "execution_count": 10,
     "metadata": {},
     "output_type": "execute_result"
    }
   ],
   "source": [
    "x is z"
   ]
  },
  {
   "cell_type": "code",
   "execution_count": null,
   "id": "c1f781a7-36d2-4ccb-a30e-8c1c618cd743",
   "metadata": {},
   "outputs": [],
   "source": [
    "#identity and comparative are not same"
   ]
  }
 ],
 "metadata": {
  "kernelspec": {
   "display_name": "Python 3 (ipykernel)",
   "language": "python",
   "name": "python3"
  },
  "language_info": {
   "codemirror_mode": {
    "name": "ipython",
    "version": 3
   },
   "file_extension": ".py",
   "mimetype": "text/x-python",
   "name": "python",
   "nbconvert_exporter": "python",
   "pygments_lexer": "ipython3",
   "version": "3.11.7"
  }
 },
 "nbformat": 4,
 "nbformat_minor": 5
}
